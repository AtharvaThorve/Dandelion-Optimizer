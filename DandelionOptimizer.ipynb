{
 "cells": [
  {
   "cell_type": "markdown",
   "metadata": {},
   "source": [
    "### Dandelion Optimizer\n",
    "\n",
    "#### Important Links:\n",
    "- [Paper](https://www.sciencedirect.com/science/article/abs/pii/S0952197622002305)<br>\n",
    "- [Matlab](https://www.mathworks.com/matlabcentral/fileexchange/114680-dandelion-optimizer)"
   ]
  },
  {
   "cell_type": "markdown",
   "metadata": {},
   "source": [
    "#### Imports"
   ]
  },
  {
   "cell_type": "code",
   "execution_count": 1,
   "metadata": {},
   "outputs": [],
   "source": [
    "using Dates"
   ]
  },
  {
   "cell_type": "code",
   "execution_count": 1,
   "metadata": {},
   "outputs": [
    {
     "data": {
      "text/plain": [
       "initialization (generic function with 1 method)"
      ]
     },
     "metadata": {},
     "output_type": "display_data"
    }
   ],
   "source": [
    "function initialization(Popsize, Dim, UB, LB)\n",
    "    Boundary_no = length(UB) # number of boundaries\n",
    "    \n",
    "    # Preallocate array for Positions\n",
    "    Positions = zeros(Popsize, Dim)\n",
    "\n",
    "    # If the boundaries of all variables are equal and user enters a single number for both UB and LB\n",
    "    if Boundary_no == 1\n",
    "        Positions = rand(Popsize, Dim) .* (UB - LB) .+ LB\n",
    "    end\n",
    "\n",
    "    # If each variable has a different LB and UB\n",
    "    if Boundary_no > 1\n",
    "        for i in 1:Dim\n",
    "            ub_i = UB[i]\n",
    "            lb_i = LB[i]\n",
    "            Positions[:, i] = rand(Popsize) .* (ub_i - lb_i) .+ lb_i\n",
    "        end\n",
    "    end\n",
    "\n",
    "    return Positions\n",
    "end"
   ]
  },
  {
   "cell_type": "markdown",
   "metadata": {},
   "source": [
    "The above function initializes the starting positions of Dandelions.<br><br>\n",
    "__Parameters__:\n",
    "- Popsize: Determines the number of dandelions initialized\n",
    "- Dim: States the number of dimensions of the problem\n",
    "- UB, LB: This is an array giving the upper and lower bounds for the initialization values<br>\n",
    "\n",
    "__Returns__:\n",
    "- Initial Positions of all the dandelions"
   ]
  },
  {
   "cell_type": "code",
   "execution_count": null,
   "metadata": {},
   "outputs": [],
   "source": [
    "function DO(Popsize, Maxiteration, LB, UB, Dim, Fobj)\n",
    "    start_time = time()\n",
    "    dandelions = initialization(Popsize, Dim, UB, LB)\n",
    "    dandelionsFitness = zeros(Popsize)\n",
    "    Convergence_curve = zeros(Maxiteration)\n",
    "    for i in 1:Popsize\n",
    "        dandelionsFitness[i] = Fobj(dandelions[i, :])\n",
    "    end\n",
    "\n",
    "    # Calculate the fitness values of initial dandelions.\n",
    "    sorted_indexes = sortperm(dandelionsFitness)\n",
    "    Best_position = dandelions[sorted_indexes[1], :]\n",
    "    Best_fitness = dandelionsFitness[sorted_indexes[1]]\n",
    "    Convergence_curve[1] = Best_fitness\n",
    "    t = 2\n",
    "\n",
    "\twhile t < Maxiteration + 1\n",
    "    \n",
    "\t\t## Rising stage\n",
    "\t\tbeta = randn(Popsize, Dim)\n",
    "\t\talpha = rand() * ((1 / Maxiteration^2) * t^2 - 2 / Maxiteration * t + 1)  # eq.(8) in this paper\n",
    "\t\ta = 1 / (Maxiteration^2 - 2 * Maxiteration + 1)  # Note: U can use positive or negative on 1 for solving ur problem.\n",
    "\t\tb = -2a\n",
    "\t\tc = 1 - a - b\n",
    "\t\tk = 1 - rand() * (c + a * t^2 + b * t)  # eq.(11) in this paper\n",
    "\t\tif randn() < 1.5\n",
    "\t\t\tfor i in 1:Popsize\n",
    "\t\t\t\tlamb = abs(randn(1, Dim))\n",
    "\t\t\t\ttheta = (2 * rand() - 1) * pi\n",
    "\t\t\t\trow = 1 / exp(theta)\n",
    "\t\t\t\tvx = row * cos(theta)\n",
    "\t\t\t\tvy = row * sin(theta)\n",
    "\t\t\t\tNEW = rand(1, Dim) .* (UB .- LB) .+ LB\n",
    "\t\t\t\tdandelions_1[i, :] .= dandelions[i, :] .+ alpha .* vx .* vy .* lognpdf.(lamb, 0, 1) .* (NEW .- dandelions[i, :])  # eq.(5) in this paper\n",
    "\t\t\tend\n",
    "\t\telse\n",
    "\t\t\tfor i in 1:Popsize\n",
    "\t\t\t\tdandelions_1[i, :] .= dandelions[i, :] .* k  # eq.(10) in this paper\n",
    "\t\t\tend\n",
    "\t\tend\n",
    "\t\tdandelions .= dandelions_1\n",
    "\t\t# Check boundaries\n",
    "\t\tdandelions .= max.(dandelions, LB)\n",
    "\t\tdandelions .= min.(dandelions, UB)\n",
    "\t"
   ]
  }
 ],
 "metadata": {
  "kernelspec": {
   "display_name": "Julia 1.10.0",
   "language": "julia",
   "name": "julia-1.10"
  },
  "language_info": {
   "file_extension": ".jl",
   "mimetype": "application/julia",
   "name": "julia",
   "version": "1.10.0"
  }
 },
 "nbformat": 4,
 "nbformat_minor": 2
}
