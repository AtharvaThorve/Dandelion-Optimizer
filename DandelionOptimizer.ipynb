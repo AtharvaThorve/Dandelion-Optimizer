{
 "cells": [
  {
   "cell_type": "markdown",
   "metadata": {},
   "source": [
    "### Dandelion Optimizer\n",
    "\n",
    "#### Important Links:\n",
    "- [Paper](https://www.sciencedirect.com/science/article/abs/pii/S0952197622002305)<br>\n",
    "- [Matlab](https://www.mathworks.com/matlabcentral/fileexchange/114680-dandelion-optimizer)"
   ]
  }
 ],
 "metadata": {
  "kernelspec": {
   "display_name": "Julia 1.10.0",
   "language": "julia",
   "name": "julia-1.10"
  },
  "language_info": {
   "file_extension": ".jl",
   "mimetype": "application/julia",
   "name": "julia",
   "version": "1.10.0"
  }
 },
 "nbformat": 4,
 "nbformat_minor": 2
}
