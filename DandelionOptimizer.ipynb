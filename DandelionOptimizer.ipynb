{
 "cells": [
  {
   "cell_type": "markdown",
   "metadata": {},
   "source": [
    "### Dandelion Optimizer\n",
    "\n",
    "#### Important Links:\n",
    "- [Paper](https://www.sciencedirect.com/science/article/abs/pii/S0952197622002305)<br>\n",
    "- [Matlab](https://www.mathworks.com/matlabcentral/fileexchange/114680-dandelion-optimizer)"
   ]
  },
  {
   "cell_type": "code",
   "execution_count": 1,
   "metadata": {},
   "outputs": [
    {
     "data": {
      "text/plain": [
       "initialization (generic function with 1 method)"
      ]
     },
     "metadata": {},
     "output_type": "display_data"
    }
   ],
   "source": [
    "function initialization(Popsize, Dim, UB, LB)\n",
    "    Boundary_no = length(UB) # number of boundaries\n",
    "    \n",
    "    # Preallocate array for Positions\n",
    "    Positions = zeros(Popsize, Dim)\n",
    "\n",
    "    # If the boundaries of all variables are equal and user enters a single number for both UB and LB\n",
    "    if Boundary_no == 1\n",
    "        Positions = rand(Popsize, Dim) .* (UB - LB) .+ LB\n",
    "    end\n",
    "\n",
    "    # If each variable has a different LB and UB\n",
    "    if Boundary_no > 1\n",
    "        for i in 1:Dim\n",
    "            ub_i = UB[i]\n",
    "            lb_i = LB[i]\n",
    "            Positions[:, i] = rand(Popsize) .* (ub_i - lb_i) .+ lb_i\n",
    "        end\n",
    "    end\n",
    "\n",
    "    return Positions\n",
    "end"
   ]
  },
  {
   "cell_type": "markdown",
   "metadata": {},
   "source": [
    "The above function initializes the starting positions of Dandelions.<br><br>\n",
    "__Parameters__:\n",
    "- Popsize: Determines the number of dandelions initialized\n",
    "- Dim: States the number of dimensions of the problem\n",
    "- UB, LB: This is an array giving the upper and lower bounds for the initialization values<br>\n",
    "\n",
    "__Returns__:\n",
    "- Initial Positions of all the dandelions"
   ]
  }
 ],
 "metadata": {
  "kernelspec": {
   "display_name": "Julia 1.10.0",
   "language": "julia",
   "name": "julia-1.10"
  },
  "language_info": {
   "file_extension": ".jl",
   "mimetype": "application/julia",
   "name": "julia",
   "version": "1.10.0"
  }
 },
 "nbformat": 4,
 "nbformat_minor": 2
}
